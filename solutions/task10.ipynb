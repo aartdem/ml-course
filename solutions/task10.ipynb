{
  "nbformat": 4,
  "nbformat_minor": 0,
  "metadata": {
    "colab": {
      "provenance": []
    },
    "kernelspec": {
      "name": "python3",
      "display_name": "Python 3"
    },
    "language_info": {
      "name": "python"
    }
  },
  "cells": [
    {
      "cell_type": "markdown",
      "source": [
        "# Задача 10. Graph Convolutional Network\n",
        " * Найти графовый набор данных для решения задачи предсказания (классификация вершин, обнаружение сообществ и т.д.).\n",
        " * Использовать несколько слоев GCNConv из библиотеки PyG для построения GCN модели.\n",
        " * Обучить полученную модель, подобрать гиперпараметры (например, learning rate) на валидационной выборке, и оценить качество предсказания на тестовой выборке.\n",
        " * (+5 баллов) Также представить самостоятельную реализацию слоя GCNConv, используя матричные операции. Повторить обучение с собственными слоями и сравнить результаты."
      ],
      "metadata": {
        "id": "im5kqd0ODS1Z"
      }
    },
    {
      "cell_type": "code",
      "source": [
        "!pip install torch\n",
        "!pip install torch_geometric\n",
        "!pip install networkx\n",
        "!pip install numpy\n",
        "!pip install scikit-learn"
      ],
      "metadata": {
        "id": "xxfCaa-KDXLB",
        "collapsed": true
      },
      "execution_count": null,
      "outputs": []
    },
    {
      "cell_type": "markdown",
      "metadata": {
        "id": "yHnpSmfBtBDN"
      },
      "source": [
        "## Датасет, задача\n",
        "В качестве датасета был выбран CiteSeer, решается задача классификации вершин. База данных CiteSeer состоит из научных публикаций, отнесенных к одному из шести классов. Рёбра отражают ссылки между статьями. Каждая публикация в наборе данных описывается вектором слов, имеющим значение 0/1, указывающим на отсутствие/присутствие соответствующего слова в словаре."
      ]
    },
    {
      "cell_type": "code",
      "execution_count": 2,
      "metadata": {
        "colab": {
          "base_uri": "https://localhost:8080/"
        },
        "id": "emI5-b_Lh1ny",
        "outputId": "8065ac21-ac0c-4769-f476-283685521e75"
      },
      "outputs": [
        {
          "output_type": "stream",
          "name": "stdout",
          "text": [
            "Number of nodes: 3327\n",
            "Number of edges: 9104\n",
            "Average node degree: 2.74\n",
            "Number of training nodes: 120\n",
            "Training node label rate: 0.04\n",
            "Has self-loops: False\n",
            "Is undirected: True\n"
          ]
        }
      ],
      "source": [
        "import networkx as nx\n",
        "import matplotlib.pyplot as plt\n",
        "import numpy as np\n",
        "from torch_geometric.utils import to_networkx\n",
        "from sklearn.preprocessing import StandardScaler\n",
        "from sklearn.model_selection import train_test_split, StratifiedKFold, cross_val_score, GridSearchCV\n",
        "from sklearn.svm import SVC\n",
        "from sklearn.pipeline import Pipeline\n",
        "from torch_geometric.datasets import Planetoid\n",
        "from torch_geometric.nn import GCNConv\n",
        "import torch\n",
        "import torch.nn.functional as F\n",
        "import random\n",
        "\n",
        "dataset = Planetoid(root='data/Planetoid', name='CiteSeer')\n",
        "data = dataset[0]\n",
        "\n",
        "print(f'Number of nodes: {data.num_nodes}')\n",
        "print(f'Number of edges: {data.num_edges}')\n",
        "print(f'Average node degree: {data.num_edges / data.num_nodes:.2f}')\n",
        "print(f'Number of training nodes: {data.train_mask.sum()}')\n",
        "print(f'Training node label rate: {int(data.train_mask.sum()) / data.num_nodes:.2f}')\n",
        "print(f'Has self-loops: {data.has_self_loops()}')\n",
        "print(f'Is undirected: {data.is_undirected()}')"
      ]
    },
    {
      "cell_type": "markdown",
      "source": [
        "## Распределение вершин по классам"
      ],
      "metadata": {
        "id": "0ayAC3AeKQZo"
      }
    },
    {
      "cell_type": "code",
      "source": [
        "def get_num_classes(data):\n",
        "  labels = data.y.numpy()\n",
        "  num_classes = int(labels.max() + 1)\n",
        "  return num_classes\n",
        "\n",
        "num_classes = get_num_classes(data)\n",
        "counts = np.bincount(data.y.numpy(), minlength=num_classes)\n",
        "\n",
        "plt.figure()\n",
        "plt.bar(np.arange(num_classes), counts)\n",
        "plt.xlabel('Класс')\n",
        "plt.ylabel('Количество вершин')\n",
        "plt.title('Распределение вершин по классам')\n",
        "plt.xticks(np.arange(num_classes))\n",
        "plt.show()"
      ],
      "metadata": {
        "colab": {
          "base_uri": "https://localhost:8080/",
          "height": 472
        },
        "id": "QEIKS9tRKTvg",
        "outputId": "b4bdd8c5-cb25-4a82-ceab-21007ea21879"
      },
      "execution_count": 3,
      "outputs": [
        {
          "output_type": "display_data",
          "data": {
            "text/plain": [
              "<Figure size 640x480 with 1 Axes>"
            ],
            "image/png": "[encoded data removed]"
          },
          "metadata": {}
        }
      ]
    },
    {
      "cell_type": "markdown",
      "source": [
        "## GCN модель"
      ],
      "metadata": {
        "id": "5w6iuRPd1-uD"
      }
    },
    {
      "cell_type": "code",
      "source": [
        "class GCN(torch.nn.Module):\n",
        "    def __init__(self, conv_factory, in_channels: int, hidden_channels: int, out_channels: int, dropout: float = 0.5):\n",
        "        super().__init__()\n",
        "        self.conv1 = conv_factory(in_channels, hidden_channels)\n",
        "        self.conv2 = conv_factory(hidden_channels, out_channels)\n",
        "        self.dropout = dropout\n",
        "\n",
        "    def forward(self, x, edge_index):\n",
        "        x = self.conv1(x, edge_index)\n",
        "        x = F.relu(x)\n",
        "        x = F.dropout(x, p=self.dropout, training=self.training)\n",
        "        x = self.conv2(x, edge_index)\n",
        "        return x"
      ],
      "metadata": {
        "id": "lQHG5kAm1-RJ"
      },
      "execution_count": 4,
      "outputs": []
    },
    {
      "cell_type": "markdown",
      "source": [
        "## Функции для обучения модели и перебора гиперпараметров"
      ],
      "metadata": {
        "id": "dvLMwxixGkPD"
      }
    },
    {
      "cell_type": "code",
      "source": [
        "from itertools import product\n",
        "\n",
        "# зафиксировали seed для воспроизводимости\n",
        "seed = 123\n",
        "np.random.seed(seed)\n",
        "random.seed(seed)\n",
        "torch.manual_seed(seed)\n",
        "\n",
        "def train(model, data, optimizer, criterion):\n",
        "    model.train()\n",
        "    optimizer.zero_grad()\n",
        "    out = model(data.x, data.edge_index)\n",
        "    loss = criterion(out[data.train_mask], data.y[data.train_mask])\n",
        "    loss.backward()\n",
        "    optimizer.step()\n",
        "    return loss.item()\n",
        "\n",
        "def test(model, data, criterion=None):\n",
        "    model.eval()\n",
        "    logits = model(data.x, data.edge_index)\n",
        "    preds = logits.argmax(dim=1)\n",
        "\n",
        "    metrics = {}\n",
        "    for phase in ['train', 'val', 'test']:\n",
        "        mask = data[f\"{phase}_mask\"]\n",
        "        correct = preds[mask].eq(data.y[mask]).sum().item()\n",
        "        total = mask.sum().item()\n",
        "        metrics[f\"{phase}_acc\"] = correct / total\n",
        "        if criterion is not None and phase != 'train':\n",
        "            loss = criterion(logits[mask], data.y[mask]).item()\n",
        "            metrics[f\"{phase}_loss\"] = loss\n",
        "    return metrics\n",
        "\n",
        "def hyperparameter_search(conv_factory, data, param_grid, max_epochs=200):\n",
        "    best_config = None\n",
        "    best_val_acc = 0\n",
        "    results = []\n",
        "\n",
        "    for hidden, lr, wd, dr in product(\n",
        "        param_grid['hidden_channels'],\n",
        "        param_grid['lr'],\n",
        "        param_grid['weight_decay'],\n",
        "        param_grid['dropout']\n",
        "    ):\n",
        "        model = GCN(\n",
        "            conv_factory=conv_factory,\n",
        "            in_channels=data.num_node_features,\n",
        "            hidden_channels=hidden,\n",
        "            out_channels=get_num_classes(data),\n",
        "            dropout=dr\n",
        "        )\n",
        "        optimizer = torch.optim.Adam(model.parameters(), lr=lr, weight_decay=wd)\n",
        "        criterion = torch.nn.CrossEntropyLoss()\n",
        "\n",
        "        best_run_val = 0\n",
        "        for epoch in range(1, max_epochs + 1):\n",
        "            train(model, data, optimizer, criterion)\n",
        "            metrics = test(model, data)\n",
        "            val_acc = metrics['val_acc']\n",
        "            if val_acc > best_run_val:\n",
        "                best_run_val = val_acc\n",
        "\n",
        "        results.append(((hidden, lr, wd, dr), best_run_val))\n",
        "        print(f\"Config hidden={hidden}, lr={lr}, wd={wd}, dropout={dr} => best_val_acc={best_run_val:.4f}\")\n",
        "\n",
        "        if best_run_val > best_val_acc:\n",
        "            best_val_acc = best_run_val\n",
        "            best_config = {'hidden_channels': hidden, 'lr': lr, 'weight_decay': wd, 'dropout': dr}\n",
        "\n",
        "    print(f\"\\nBest validation accuracy: {best_val_acc:.4f} with config {best_config}\")\n",
        "    return best_config, best_val_acc, results\n",
        "\n"
      ],
      "metadata": {
        "id": "xowoM_M2GXQY"
      },
      "execution_count": 5,
      "outputs": []
    },
    {
      "cell_type": "markdown",
      "source": [
        "## Основной цикл эксперимента"
      ],
      "metadata": {
        "id": "W4lQQbLnTCwX"
      }
    },
    {
      "cell_type": "code",
      "source": [
        "def experiment(conv_factory):\n",
        "  dataset = Planetoid(root='data/Planetoid', name='CiteSeer')\n",
        "  data = dataset[0]\n",
        "\n",
        "  param_grid = {\n",
        "      'hidden_channels': [16, 32, 64],\n",
        "      'lr': [0.01, 0.005, 0.001],\n",
        "      'weight_decay': [5e-4, 1e-3],\n",
        "      'dropout': [0.3, 0.5]\n",
        "  }\n",
        "\n",
        "  best_config, best_val_acc, all_results = hyperparameter_search(conv_factory, data, param_grid)\n",
        "\n",
        "  print(\"\\nTraining final model with best hyperparameters...\")\n",
        "  model = GCN(\n",
        "      conv_factory=default_conv_factory,\n",
        "      in_channels=dataset.num_node_features,\n",
        "      hidden_channels=best_config['hidden_channels'],\n",
        "      out_channels=dataset.num_classes,\n",
        "      dropout=best_config['dropout']\n",
        "  )\n",
        "  optimizer = torch.optim.Adam(model.parameters(), lr=best_config['lr'], weight_decay=best_config['weight_decay'])\n",
        "  criterion = torch.nn.CrossEntropyLoss()\n",
        "\n",
        "  best_val_acc = 0\n",
        "  best_test_acc = 0\n",
        "  for epoch in range(1, 251):\n",
        "      train(model, data, optimizer, criterion)\n",
        "      metrics = test(model, data)\n",
        "      if metrics['val_acc'] >= best_val_acc:\n",
        "          best_test_acc = metrics['test_acc']\n",
        "      if epoch % 20 == 0:\n",
        "          print(f\"Epoch {epoch}: train_acc={metrics['train_acc']:.4f}, val_acc={metrics['val_acc']:.4f}, test_acc={metrics['test_acc']:.4f}\")\n",
        "\n",
        "  print(f\"\\nFinal test accuracy with best config: {best_test_acc:.4f}\")"
      ],
      "metadata": {
        "id": "-NGkP-4-TFgs"
      },
      "execution_count": 6,
      "outputs": []
    },
    {
      "cell_type": "markdown",
      "source": [
        "## Качество предсказания со стандартной реализацией"
      ],
      "metadata": {
        "id": "6qLIxzeGX2PN"
      }
    },
    {
      "cell_type": "code",
      "source": [
        "default_conv_factory = lambda in_c, out_c: GCNConv(in_c, out_c)\n",
        "experiment(default_conv_factory)"
      ],
      "metadata": {
        "colab": {
          "base_uri": "https://localhost:8080/"
        },
        "id": "nTnAgfsvX9Sw",
        "outputId": "85d6386b-e905-4c4e-e273-1e75bdd546a4"
      },
      "execution_count": 7,
      "outputs": [
        {
          "output_type": "stream",
          "name": "stdout",
          "text": [
            "Config hidden=16, lr=0.01, wd=0.0005, dropout=0.3 => best_val_acc=0.7040\n",
            "Config hidden=16, lr=0.01, wd=0.0005, dropout=0.5 => best_val_acc=0.6900\n",
            "Config hidden=16, lr=0.01, wd=0.001, dropout=0.3 => best_val_acc=0.6980\n",
            "Config hidden=16, lr=0.01, wd=0.001, dropout=0.5 => best_val_acc=0.7000\n",
            "Config hidden=16, lr=0.005, wd=0.0005, dropout=0.3 => best_val_acc=0.6860\n",
            "Config hidden=16, lr=0.005, wd=0.0005, dropout=0.5 => best_val_acc=0.6880\n",
            "Config hidden=16, lr=0.005, wd=0.001, dropout=0.3 => best_val_acc=0.6900\n",
            "Config hidden=16, lr=0.005, wd=0.001, dropout=0.5 => best_val_acc=0.6920\n",
            "Config hidden=16, lr=0.001, wd=0.0005, dropout=0.3 => best_val_acc=0.6760\n",
            "Config hidden=16, lr=0.001, wd=0.0005, dropout=0.5 => best_val_acc=0.6340\n",
            "Config hidden=16, lr=0.001, wd=0.001, dropout=0.3 => best_val_acc=0.6880\n",
            "Config hidden=16, lr=0.001, wd=0.001, dropout=0.5 => best_val_acc=0.6720\n",
            "Config hidden=32, lr=0.01, wd=0.0005, dropout=0.3 => best_val_acc=0.7020\n",
            "Config hidden=32, lr=0.01, wd=0.0005, dropout=0.5 => best_val_acc=0.7040\n",
            "Config hidden=32, lr=0.01, wd=0.001, dropout=0.3 => best_val_acc=0.6940\n",
            "Config hidden=32, lr=0.01, wd=0.001, dropout=0.5 => best_val_acc=0.7020\n",
            "Config hidden=32, lr=0.005, wd=0.0005, dropout=0.3 => best_val_acc=0.6820\n",
            "Config hidden=32, lr=0.005, wd=0.0005, dropout=0.5 => best_val_acc=0.6800\n",
            "Config hidden=32, lr=0.005, wd=0.001, dropout=0.3 => best_val_acc=0.7020\n",
            "Config hidden=32, lr=0.005, wd=0.001, dropout=0.5 => best_val_acc=0.6840\n",
            "Config hidden=32, lr=0.001, wd=0.0005, dropout=0.3 => best_val_acc=0.6960\n",
            "Config hidden=32, lr=0.001, wd=0.0005, dropout=0.5 => best_val_acc=0.6600\n",
            "Config hidden=32, lr=0.001, wd=0.001, dropout=0.3 => best_val_acc=0.6840\n",
            "Config hidden=32, lr=0.001, wd=0.001, dropout=0.5 => best_val_acc=0.6800\n",
            "Config hidden=64, lr=0.01, wd=0.0005, dropout=0.3 => best_val_acc=0.7060\n",
            "Config hidden=64, lr=0.01, wd=0.0005, dropout=0.5 => best_val_acc=0.7000\n",
            "Config hidden=64, lr=0.01, wd=0.001, dropout=0.3 => best_val_acc=0.7000\n",
            "Config hidden=64, lr=0.01, wd=0.001, dropout=0.5 => best_val_acc=0.7040\n",
            "Config hidden=64, lr=0.005, wd=0.0005, dropout=0.3 => best_val_acc=0.6880\n",
            "Config hidden=64, lr=0.005, wd=0.0005, dropout=0.5 => best_val_acc=0.6980\n",
            "Config hidden=64, lr=0.005, wd=0.001, dropout=0.3 => best_val_acc=0.6960\n",
            "Config hidden=64, lr=0.005, wd=0.001, dropout=0.5 => best_val_acc=0.7020\n",
            "Config hidden=64, lr=0.001, wd=0.0005, dropout=0.3 => best_val_acc=0.6940\n",
            "Config hidden=64, lr=0.001, wd=0.0005, dropout=0.5 => best_val_acc=0.6880\n",
            "Config hidden=64, lr=0.001, wd=0.001, dropout=0.3 => best_val_acc=0.7000\n",
            "Config hidden=64, lr=0.001, wd=0.001, dropout=0.5 => best_val_acc=0.7000\n",
            "\n",
            "Best validation accuracy: 0.7060 with config {'hidden_channels': 64, 'lr': 0.01, 'weight_decay': 0.0005, 'dropout': 0.3}\n",
            "\n",
            "Training final model with best hyperparameters...\n",
            "Epoch 20: train_acc=1.0000, val_acc=0.6660, test_acc=0.6610\n",
            "Epoch 40: train_acc=1.0000, val_acc=0.6860, test_acc=0.6900\n",
            "Epoch 60: train_acc=1.0000, val_acc=0.6900, test_acc=0.6940\n",
            "Epoch 80: train_acc=1.0000, val_acc=0.6800, test_acc=0.6890\n",
            "Epoch 100: train_acc=1.0000, val_acc=0.6860, test_acc=0.6810\n",
            "Epoch 120: train_acc=1.0000, val_acc=0.6880, test_acc=0.6820\n",
            "Epoch 140: train_acc=1.0000, val_acc=0.6820, test_acc=0.6720\n",
            "Epoch 160: train_acc=1.0000, val_acc=0.6880, test_acc=0.6860\n",
            "Epoch 180: train_acc=1.0000, val_acc=0.6800, test_acc=0.6830\n",
            "Epoch 200: train_acc=1.0000, val_acc=0.6760, test_acc=0.6780\n",
            "Epoch 220: train_acc=1.0000, val_acc=0.6740, test_acc=0.6810\n",
            "Epoch 240: train_acc=1.0000, val_acc=0.6960, test_acc=0.6790\n",
            "\n",
            "Final test accuracy with best config: 0.6740\n"
          ]
        }
      ]
    },
    {
      "cell_type": "markdown",
      "source": [
        "## Собственная реализация слоя GCNConv (CustomGCNConv)"
      ],
      "metadata": {
        "id": "nLK38x1QbzXR"
      }
    },
    {
      "cell_type": "code",
      "source": [
        "import torch.nn as nn\n",
        "from torch_geometric.utils import add_self_loops\n",
        "\n",
        "class CustomGCNConv(nn.Module):\n",
        "    def __init__(self, in_channels: int, out_channels: int):\n",
        "        super().__init__()\n",
        "        self.weight = nn.Parameter(torch.empty(in_channels, out_channels))\n",
        "        self.bias = nn.Parameter(torch.empty(out_channels))\n",
        "        self.reset_parameters()\n",
        "\n",
        "    def reset_parameters(self):\n",
        "        nn.init.xavier_uniform_(self.weight)\n",
        "        nn.init.zeros_(self.bias)\n",
        "\n",
        "    def forward(self, x: torch.Tensor, edge_index: torch.Tensor) -> torch.Tensor:\n",
        "        N = x.size(0)\n",
        "        device = x.device\n",
        "        edge_index, _ = add_self_loops(edge_index, num_nodes=N)\n",
        "\n",
        "        row, col = edge_index\n",
        "        deg = torch.bincount(row, minlength=N).float().to(device)\n",
        "        deg_inv_sqrt = deg.pow(-0.5)\n",
        "        deg_inv_sqrt[deg_inv_sqrt == float('inf')] = 0\n",
        "\n",
        "        norm = deg_inv_sqrt[row] * deg_inv_sqrt[col]\n",
        "\n",
        "        adj_norm = torch.sparse_coo_tensor(edge_index, norm, (N, N), device=device)\n",
        "\n",
        "        out = torch.sparse.mm(adj_norm, x)\n",
        "\n",
        "        out = out @ self.weight\n",
        "        out = out + self.bias\n",
        "        return out\n"
      ],
      "metadata": {
        "id": "mIOgAYoFcNfz"
      },
      "execution_count": 11,
      "outputs": []
    },
    {
      "cell_type": "markdown",
      "source": [
        "## Обучение с собственной реализацией слоя GCNConv и результаты"
      ],
      "metadata": {
        "id": "APnHmtFdlqae"
      }
    },
    {
      "cell_type": "code",
      "source": [
        "custom_conv_factory = lambda in_c, out_c: CustomGCNConv(in_c, out_c)\n",
        "experiment(custom_conv_factory)"
      ],
      "metadata": {
        "colab": {
          "base_uri": "https://localhost:8080/"
        },
        "id": "-OjXlZ_Jl5HI",
        "outputId": "e1e1a1a6-c8b8-432d-f914-a6ffbfbad93b"
      },
      "execution_count": 12,
      "outputs": [
        {
          "output_type": "stream",
          "name": "stdout",
          "text": [
            "Config hidden=16, lr=0.01, wd=0.0005, dropout=0.3 => best_val_acc=0.6920\n",
            "Config hidden=16, lr=0.01, wd=0.0005, dropout=0.5 => best_val_acc=0.6960\n",
            "Config hidden=16, lr=0.01, wd=0.001, dropout=0.3 => best_val_acc=0.7060\n",
            "Config hidden=16, lr=0.01, wd=0.001, dropout=0.5 => best_val_acc=0.6960\n",
            "Config hidden=16, lr=0.005, wd=0.0005, dropout=0.3 => best_val_acc=0.7020\n",
            "Config hidden=16, lr=0.005, wd=0.0005, dropout=0.5 => best_val_acc=0.6940\n",
            "Config hidden=16, lr=0.005, wd=0.001, dropout=0.3 => best_val_acc=0.6860\n",
            "Config hidden=16, lr=0.005, wd=0.001, dropout=0.5 => best_val_acc=0.6960\n",
            "Config hidden=16, lr=0.001, wd=0.0005, dropout=0.3 => best_val_acc=0.6700\n",
            "Config hidden=16, lr=0.001, wd=0.0005, dropout=0.5 => best_val_acc=0.6540\n",
            "Config hidden=16, lr=0.001, wd=0.001, dropout=0.3 => best_val_acc=0.6820\n",
            "Config hidden=16, lr=0.001, wd=0.001, dropout=0.5 => best_val_acc=0.6640\n",
            "Config hidden=32, lr=0.01, wd=0.0005, dropout=0.3 => best_val_acc=0.6860\n",
            "Config hidden=32, lr=0.01, wd=0.0005, dropout=0.5 => best_val_acc=0.7120\n",
            "Config hidden=32, lr=0.01, wd=0.001, dropout=0.3 => best_val_acc=0.6940\n",
            "Config hidden=32, lr=0.01, wd=0.001, dropout=0.5 => best_val_acc=0.7060\n",
            "Config hidden=32, lr=0.005, wd=0.0005, dropout=0.3 => best_val_acc=0.6920\n",
            "Config hidden=32, lr=0.005, wd=0.0005, dropout=0.5 => best_val_acc=0.7000\n",
            "Config hidden=32, lr=0.005, wd=0.001, dropout=0.3 => best_val_acc=0.6900\n",
            "Config hidden=32, lr=0.005, wd=0.001, dropout=0.5 => best_val_acc=0.6980\n",
            "Config hidden=32, lr=0.001, wd=0.0005, dropout=0.3 => best_val_acc=0.6880\n",
            "Config hidden=32, lr=0.001, wd=0.0005, dropout=0.5 => best_val_acc=0.6640\n",
            "Config hidden=32, lr=0.001, wd=0.001, dropout=0.3 => best_val_acc=0.7020\n",
            "Config hidden=32, lr=0.001, wd=0.001, dropout=0.5 => best_val_acc=0.6840\n",
            "Config hidden=64, lr=0.01, wd=0.0005, dropout=0.3 => best_val_acc=0.7020\n",
            "Config hidden=64, lr=0.01, wd=0.0005, dropout=0.5 => best_val_acc=0.7080\n",
            "Config hidden=64, lr=0.01, wd=0.001, dropout=0.3 => best_val_acc=0.7000\n",
            "Config hidden=64, lr=0.01, wd=0.001, dropout=0.5 => best_val_acc=0.6980\n",
            "Config hidden=64, lr=0.005, wd=0.0005, dropout=0.3 => best_val_acc=0.6920\n",
            "Config hidden=64, lr=0.005, wd=0.0005, dropout=0.5 => best_val_acc=0.6920\n",
            "Config hidden=64, lr=0.005, wd=0.001, dropout=0.3 => best_val_acc=0.7100\n",
            "Config hidden=64, lr=0.005, wd=0.001, dropout=0.5 => best_val_acc=0.6980\n",
            "Config hidden=64, lr=0.001, wd=0.0005, dropout=0.3 => best_val_acc=0.6820\n",
            "Config hidden=64, lr=0.001, wd=0.0005, dropout=0.5 => best_val_acc=0.6980\n",
            "Config hidden=64, lr=0.001, wd=0.001, dropout=0.3 => best_val_acc=0.7100\n",
            "Config hidden=64, lr=0.001, wd=0.001, dropout=0.5 => best_val_acc=0.6860\n",
            "\n",
            "Best validation accuracy: 0.7120 with config {'hidden_channels': 32, 'lr': 0.01, 'weight_decay': 0.0005, 'dropout': 0.5}\n",
            "\n",
            "Training final model with best hyperparameters...\n",
            "Epoch 20: train_acc=1.0000, val_acc=0.6580, test_acc=0.6590\n",
            "Epoch 40: train_acc=1.0000, val_acc=0.6740, test_acc=0.6790\n",
            "Epoch 60: train_acc=1.0000, val_acc=0.6820, test_acc=0.6900\n",
            "Epoch 80: train_acc=1.0000, val_acc=0.6700, test_acc=0.6850\n",
            "Epoch 100: train_acc=1.0000, val_acc=0.6760, test_acc=0.6890\n",
            "Epoch 120: train_acc=1.0000, val_acc=0.6760, test_acc=0.6870\n",
            "Epoch 140: train_acc=1.0000, val_acc=0.6720, test_acc=0.6820\n",
            "Epoch 160: train_acc=1.0000, val_acc=0.6660, test_acc=0.6800\n",
            "Epoch 180: train_acc=1.0000, val_acc=0.6580, test_acc=0.6850\n",
            "Epoch 200: train_acc=1.0000, val_acc=0.6720, test_acc=0.6860\n",
            "Epoch 220: train_acc=1.0000, val_acc=0.6680, test_acc=0.6790\n",
            "Epoch 240: train_acc=1.0000, val_acc=0.6820, test_acc=0.6740\n",
            "\n",
            "Final test accuracy with best config: 0.6900\n"
          ]
        }
      ]
    },
    {
      "cell_type": "markdown",
      "source": [
        "## Итог\n",
        "Точности модели с собственной реализацией слоя GCNConv и модели с реализацией слоя из библиотеки отличаются всего на 2% на тестовой выборке, что свидетельствует о корректности собственной реализации"
      ],
      "metadata": {
        "id": "KrxJuyPCwUMJ"
      }
    }
  ]
}