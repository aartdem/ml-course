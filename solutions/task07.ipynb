{
 "cells": [
  {
   "cell_type": "markdown",
   "id": "d472d849-7316-481b-a24d-86d4f3e6f3ed",
   "metadata": {
    "editable": true,
    "slideshow": {
     "slide_type": ""
    },
    "tags": []
   },
   "source": [
    "# Нейронные сети\n",
    "- Найти данные в виде изображений для задачи классификации. Например, можно взять данные [отсюда](http://ufldl.stanford.edu/housenumbers/).\n",
    "- Реализовать классы, необходимые для построения сети со следующими слоями\n",
    "\t- FullyConnectedLayer\n",
    "\t- ReluLayer\n",
    "\t- FullyConnectedLayer\n",
    "- Использовать CrossEntropyLoss и L2-регуляризацию.\n",
    "- Обучить модель на тренировочных данных, подбирать параметры (особенно learning rate) на валидационной и оценить качество на тестовой. Анализировать графики train/val loss, проверять на каждом шаге корректность вычисления градиентов с помощью разностной оценки.\n",
    "- (**+2 балла**) Добавить Batch normalization.\n",
    "- (**+2 балла**) В качестве оптимизатор использовать один из: Momentum, RMSprop.\n",
    "- (**+1 балл**) Также реализовать оптимизатор Adam."
   ]
  },
  {
   "cell_type": "markdown",
   "id": "09c249a7-26cc-4699-8dff-b2cf5ff9dff4",
   "metadata": {
    "editable": true,
    "slideshow": {
     "slide_type": ""
    },
    "tags": []
   },
   "source": [
    "## Датасет\n",
    "Для решения задачи был взят датасет http://ufldl.stanford.edu/housenumbers/, а именно уже разделенные тренировочные и тестовые данные, без учета дополнительных данных."
   ]
  },
  {
   "cell_type": "code",
   "execution_count": 1,
   "id": "6627b6f4-6970-42dd-b0d8-6b0b59564cb7",
   "metadata": {
    "editable": true,
    "slideshow": {
     "slide_type": ""
    },
    "tags": []
   },
   "outputs": [],
   "source": [
    "!pip install --quiet matplotlib\n",
    "!pip install --quiet numpy\n",
    "!pip install --quiet pandas \n",
    "!pip install --quiet torch\n",
    "!pip install --quiet torchvision"
   ]
  },
  {
   "cell_type": "code",
   "execution_count": 2,
   "id": "9622deaf-0b59-4240-b1d1-b2d9d20f1e8b",
   "metadata": {
    "editable": true,
    "slideshow": {
     "slide_type": ""
    },
    "tags": []
   },
   "outputs": [],
   "source": [
    "import torch\n",
    "import torchvision\n",
    "import torchvision.transforms as transforms\n",
    "from torchvision.datasets import SVHN\n",
    "import torch.nn.functional as F\n",
    "import matplotlib.pyplot as plt\n",
    "import numpy as np\n",
    "from torch.utils.data import DataLoader\n",
    "import torch.nn as nn\n",
    "import torch.optim as optim\n",
    "from torch.utils.data import random_split\n",
    "from itertools import product\n",
    "import pandas as pd"
   ]
  },
  {
   "cell_type": "markdown",
   "id": "31b23ae5-4739-47ba-86fd-7c17245fdb43",
   "metadata": {},
   "source": [
    "Подготовка датасета"
   ]
  },
  {
   "cell_type": "code",
   "execution_count": 3,
   "id": "b7716346-7ebf-4f43-846f-af26d3ca1387",
   "metadata": {},
   "outputs": [],
   "source": [
    "transform = transforms.Compose([\n",
    "    transforms.ToTensor(),\n",
    "    transforms.Normalize(mean=(0.5, 0.5, 0.5), std=(0.5, 0.5, 0.5))\n",
    "])\n",
    "\n",
    "raw_train_data = SVHN(\n",
    "    root=\"../data/task07\", \n",
    "    split='train', \n",
    "    download=True, \n",
    "    transform=transform)\n",
    "\n",
    "test_data = SVHN(\n",
    "    root=\"../data/task07\", \n",
    "    split='test', \n",
    "    download=True, \n",
    "    transform=transform)"
   ]
  },
  {
   "cell_type": "markdown",
   "id": "fba45c5f-3615-4364-bef9-d3e15bc7ffe8",
   "metadata": {},
   "source": [
    "Создание loader-ов"
   ]
  },
  {
   "cell_type": "code",
   "execution_count": 4,
   "id": "fd7e261c-7d0b-4a5f-9c7a-3520e982b466",
   "metadata": {},
   "outputs": [],
   "source": [
    "raw_train_size = len(raw_train_data)\n",
    "val_size = int(0.3 * raw_train_size)\n",
    "train_size = raw_train_size - val_size\n",
    "\n",
    "train_data, val_data = random_split(raw_train_data, [train_size, val_size])\n",
    "\n",
    "train_loader = torch.utils.data.DataLoader(train_data, batch_size=64, shuffle=True)\n",
    "val_loader = torch.utils.data.DataLoader(val_data, batch_size=64, shuffle=True)\n",
    "test_loader = torch.utils.data.DataLoader(test_data, batch_size=64, shuffle=False)"
   ]
  },
  {
   "cell_type": "markdown",
   "id": "173b1c4e-6931-47ae-80a7-7614b0509483",
   "metadata": {},
   "source": [
    "## Слои сети"
   ]
  },
  {
   "cell_type": "code",
   "execution_count": null,
   "id": "b0d6068d-b3f5-451d-ba5e-01e380268849",
   "metadata": {},
   "outputs": [],
   "source": []
  }
 ],
 "metadata": {
  "kernelspec": {
   "display_name": "Python 3 (ipykernel)",
   "language": "python",
   "name": "python3"
  },
  "language_info": {
   "codemirror_mode": {
    "name": "ipython",
    "version": 3
   },
   "file_extension": ".py",
   "mimetype": "text/x-python",
   "name": "python",
   "nbconvert_exporter": "python",
   "pygments_lexer": "ipython3",
   "version": "3.10.12"
  }
 },
 "nbformat": 4,
 "nbformat_minor": 5
}
